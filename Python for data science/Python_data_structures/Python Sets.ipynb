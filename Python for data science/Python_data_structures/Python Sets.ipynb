{
 "cells": [
  {
   "cell_type": "markdown",
   "metadata": {},
   "source": [
    "## Set\n",
    "A set is a collection which is unordered and unindexed. In Python sets are written with curly brackets { }"
   ]
  },
  {
   "cell_type": "code",
   "execution_count": 1,
   "metadata": {},
   "outputs": [
    {
     "name": "stdout",
     "output_type": "stream",
     "text": [
      "{'ferrari', 'red bull', 'mclaren', 'mercedes'}\n"
     ]
    }
   ],
   "source": [
    "set_={'mercedes','red bull','ferrari','mclaren'}\n",
    "print(set_)"
   ]
  },
  {
   "cell_type": "markdown",
   "metadata": {},
   "source": [
    "#### Access Items\n",
    "\n",
    "You cannot access items in a set by referring to an index, since sets are unordered the items has no index.\n",
    "\n",
    "But you can loop through the set items using a for loop, or ask if a specified value is present in a set, by using the in keyword."
   ]
  },
  {
   "cell_type": "code",
   "execution_count": 2,
   "metadata": {},
   "outputs": [
    {
     "name": "stdout",
     "output_type": "stream",
     "text": [
      "ferrari\n",
      "red bull\n",
      "mclaren\n",
      "mercedes\n"
     ]
    }
   ],
   "source": [
    "set_={'mercedes','red bull','ferrari','mclaren'}\n",
    "for i in set_:\n",
    "    print(i)"
   ]
  },
  {
   "cell_type": "markdown",
   "metadata": {},
   "source": [
    "#### Change Items\n",
    "\n",
    "Once a set is created, you cannot change its items becuase it unorder and unindexed, but you can add new items"
   ]
  },
  {
   "cell_type": "markdown",
   "metadata": {},
   "source": [
    "#### Add Items\n",
    "\n",
    "To add one item to a set use the add() method."
   ]
  },
  {
   "cell_type": "code",
   "execution_count": 4,
   "metadata": {},
   "outputs": [
    {
     "name": "stdout",
     "output_type": "stream",
     "text": [
      "{'mclaren', 'ferrari', 'mercedes', 'Haas', 'red bull'}\n"
     ]
    }
   ],
   "source": [
    "set_={'mercedes','red bull','ferrari','mclaren'}\n",
    "set_.add('Haas')\n",
    "print(set_)"
   ]
  },
  {
   "cell_type": "markdown",
   "metadata": {},
   "source": [
    "To add more than one item to a set use the update() method."
   ]
  },
  {
   "cell_type": "code",
   "execution_count": 6,
   "metadata": {},
   "outputs": [
    {
     "name": "stdout",
     "output_type": "stream",
     "text": [
      "{'mclaren', 'ferrari', 'haas', 'mercedes', 'alpine', 'red bull'}\n"
     ]
    }
   ],
   "source": [
    "set_={'mercedes','red bull','ferrari','mclaren'}\n",
    "set_.update(['haas','alpine'])\n",
    "print(set_)"
   ]
  },
  {
   "cell_type": "markdown",
   "metadata": {},
   "source": [
    "Length of a Set\n",
    "\n",
    "To determine how many items a set has, use the len() method."
   ]
  },
  {
   "cell_type": "code",
   "execution_count": 7,
   "metadata": {},
   "outputs": [
    {
     "name": "stdout",
     "output_type": "stream",
     "text": [
      "4\n"
     ]
    }
   ],
   "source": [
    "set_={'mercedes','red bull','ferrari','mclaren'}\n",
    "print(len(set_))"
   ]
  },
  {
   "cell_type": "markdown",
   "metadata": {},
   "source": [
    "#### Remove Item\n",
    "\n",
    "To remove an item in a set, use the remove(), or the discard() method.\n",
    "\n",
    "Note: If the item to remove does not exist, remove() will raise an error."
   ]
  },
  {
   "cell_type": "code",
   "execution_count": 10,
   "metadata": {},
   "outputs": [
    {
     "name": "stdout",
     "output_type": "stream",
     "text": [
      "{'red bull', 'mclaren', 'mercedes'}\n"
     ]
    }
   ],
   "source": [
    "set_={'mercedes','red bull','ferrari','mclaren'}\n",
    "set_.remove('ferrari')\n",
    "print(set_)"
   ]
  },
  {
   "cell_type": "markdown",
   "metadata": {},
   "source": [
    "Note: If the item to remove does not exist, discard() will NOT raise an error."
   ]
  },
  {
   "cell_type": "code",
   "execution_count": 11,
   "metadata": {},
   "outputs": [
    {
     "name": "stdout",
     "output_type": "stream",
     "text": [
      "{'ferrari', 'mclaren', 'mercedes'}\n"
     ]
    }
   ],
   "source": [
    "set_={'mercedes','red bull','ferrari','mclaren'}\n",
    "set_.discard('red bull')\n",
    "print(set_)"
   ]
  },
  {
   "cell_type": "markdown",
   "metadata": {},
   "source": [
    "#### pop()\n",
    "You can also use the pop(), method to remove an item, but this method will remove the last item. Remember that sets are unordered, so you will not know what item that gets removed.\n",
    "\n",
    "The return value of the pop() method is the removed item."
   ]
  },
  {
   "cell_type": "code",
   "execution_count": 12,
   "metadata": {},
   "outputs": [
    {
     "name": "stdout",
     "output_type": "stream",
     "text": [
      "ferrari\n",
      "{'red bull', 'mclaren', 'mercedes'}\n"
     ]
    }
   ],
   "source": [
    "set_={'mercedes','red bull','ferrari','mclaren'}\n",
    "x=set_.pop()\n",
    "print(x)\n",
    "print(set_)"
   ]
  },
  {
   "cell_type": "markdown",
   "metadata": {},
   "source": [
    "The clear() method empties the set:"
   ]
  },
  {
   "cell_type": "code",
   "execution_count": 13,
   "metadata": {},
   "outputs": [
    {
     "name": "stdout",
     "output_type": "stream",
     "text": [
      "set()\n"
     ]
    }
   ],
   "source": [
    "set_={'mercedes','red bull','ferrari','mclaren'}\n",
    "set_.clear()\n",
    "print(set_)"
   ]
  },
  {
   "cell_type": "markdown",
   "metadata": {},
   "source": [
    "The del keyword will delete the set completely:\n",
    "\n"
   ]
  },
  {
   "cell_type": "code",
   "execution_count": 14,
   "metadata": {},
   "outputs": [
    {
     "ename": "NameError",
     "evalue": "name 'set_' is not defined",
     "output_type": "error",
     "traceback": [
      "\u001b[1;31m---------------------------------------------------------------------------\u001b[0m",
      "\u001b[1;31mNameError\u001b[0m                                 Traceback (most recent call last)",
      "\u001b[1;32m<ipython-input-14-38ddd88ef214>\u001b[0m in \u001b[0;36m<module>\u001b[1;34m()\u001b[0m\n\u001b[0;32m      1\u001b[0m \u001b[0mset_\u001b[0m\u001b[1;33m=\u001b[0m\u001b[1;33m{\u001b[0m\u001b[1;34m'mercedes'\u001b[0m\u001b[1;33m,\u001b[0m\u001b[1;34m'red bull'\u001b[0m\u001b[1;33m,\u001b[0m\u001b[1;34m'ferrari'\u001b[0m\u001b[1;33m,\u001b[0m\u001b[1;34m'mclaren'\u001b[0m\u001b[1;33m}\u001b[0m\u001b[1;33m\u001b[0m\u001b[0m\n\u001b[0;32m      2\u001b[0m \u001b[1;32mdel\u001b[0m \u001b[0mset_\u001b[0m\u001b[1;33m\u001b[0m\u001b[0m\n\u001b[1;32m----> 3\u001b[1;33m \u001b[0mprint\u001b[0m\u001b[1;33m(\u001b[0m\u001b[0mset_\u001b[0m\u001b[1;33m)\u001b[0m\u001b[1;33m\u001b[0m\u001b[0m\n\u001b[0m",
      "\u001b[1;31mNameError\u001b[0m: name 'set_' is not defined"
     ]
    }
   ],
   "source": [
    "set_={'mercedes','red bull','ferrari','mclaren'}\n",
    "del set_\n",
    "print(set_)"
   ]
  },
  {
   "cell_type": "markdown",
   "metadata": {},
   "source": [
    "#### The set() Constructor\n",
    "\n",
    "It is also possible to use the set() constructor to make a set."
   ]
  },
  {
   "cell_type": "code",
   "execution_count": 15,
   "metadata": {},
   "outputs": [
    {
     "name": "stdout",
     "output_type": "stream",
     "text": [
      "{'mclaren', 'ferrari', 'mercedes'}\n"
     ]
    }
   ],
   "source": [
    "set_=set(('ferrari','mercedes','mclaren'))\n",
    "print(set_)"
   ]
  },
  {
   "cell_type": "markdown",
   "metadata": {},
   "source": [
    "#### Set Methods\n",
    "Method : Description\n",
    "\n",
    "add() : Adds an element to the set\n",
    "\n",
    "clear() : Removes all the elements from the set\n",
    "\n",
    "copy() : Returns a copy of the set\n",
    "\n",
    "difference() : Returns a set containing the difference between two or more sets\n",
    "\n",
    "difference_update() : Removes the items in this set that are also included in another, specified set\n",
    "\n",
    "discard() : Remove the specified item\n",
    "\n",
    "intersection() : Returns a set, that is the intersection of two other sets\n",
    "\n",
    "intersection_update() : Removes the items in this set that are not present in other, specified set(s)\n",
    "\n",
    "isdisjoint() : Returns whether two sets have a intersection or not\n",
    "\n",
    "issubset() : Returns whether another set contains this set or not\n",
    "\n",
    "issuperset() : Returns whether this set contains another set or not\n",
    "\n",
    "pop() : Removes an element from the set\n",
    "\n",
    "remove() : Removes the specified element\n",
    "\n",
    "symmetric_difference() : Returns a set with the symmetric differences of two sets\n",
    "\n",
    "symmetric_difference_update() : inserts the symmetric differences from this set and another\n",
    "\n",
    "union() : Return a set containing the union of sets\n",
    "\n",
    "update() : Update the set with the union of this set and others __"
   ]
  },
  {
   "cell_type": "code",
   "execution_count": 16,
   "metadata": {},
   "outputs": [
    {
     "name": "stdout",
     "output_type": "stream",
     "text": [
      "{'ferrari', 'haas', 'alpine', 'mercedes', 'red bull'}\n"
     ]
    }
   ],
   "source": [
    "x = {'mercedes','red bull','ferrari'}\n",
    "y = {'red bull','haas','alpine'}\n",
    "\n",
    "z=x.union(y)\n",
    "print(z)"
   ]
  },
  {
   "cell_type": "code",
   "execution_count": 17,
   "metadata": {},
   "outputs": [
    {
     "name": "stdout",
     "output_type": "stream",
     "text": [
      "{'red bull'}\n"
     ]
    }
   ],
   "source": [
    "m=x.intersection (y)\n",
    "print(m)"
   ]
  },
  {
   "cell_type": "code",
   "execution_count": null,
   "metadata": {},
   "outputs": [],
   "source": []
  }
 ],
 "metadata": {
  "kernelspec": {
   "display_name": "Python 3",
   "language": "python",
   "name": "python3"
  },
  "language_info": {
   "codemirror_mode": {
    "name": "ipython",
    "version": 3
   },
   "file_extension": ".py",
   "mimetype": "text/x-python",
   "name": "python",
   "nbconvert_exporter": "python",
   "pygments_lexer": "ipython3",
   "version": "3.6.5"
  }
 },
 "nbformat": 4,
 "nbformat_minor": 2
}
