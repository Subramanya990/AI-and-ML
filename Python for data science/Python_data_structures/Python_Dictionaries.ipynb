{
 "cells": [
  {
   "cell_type": "markdown",
   "metadata": {},
   "source": [
    "## Dictionary\n",
    "####  A dictionary is a collection which is ordered, changeable and do not allow duplicates.Dictionaries are used to store data values in key:value pairs."
   ]
  },
  {
   "cell_type": "code",
   "execution_count": 2,
   "metadata": {},
   "outputs": [
    {
     "name": "stdout",
     "output_type": "stream",
     "text": [
      "{'manutd': 'ronaldo', 'arsenal': 'henry', 'liverpool': 'gerrard'}\n"
     ]
    }
   ],
   "source": [
    "# create dictionary and print\n",
    "dict_ = {'manutd': 'ronaldo',\n",
    "       'arsenal': 'henry',\n",
    "       'liverpool': 'gerrard' }\n",
    "print(dict_)"
   ]
  },
  {
   "cell_type": "markdown",
   "metadata": {},
   "source": [
    "#### Accessing Items\n",
    "\n",
    "###### You can access the items of a dictionary by referring to its key name, inside square brackets:"
   ]
  },
  {
   "cell_type": "code",
   "execution_count": 7,
   "metadata": {},
   "outputs": [
    {
     "name": "stdout",
     "output_type": "stream",
     "text": [
      "henry\n"
     ]
    }
   ],
   "source": [
    "dict_ = {'manutd': 'ronaldo',\n",
    "       'arsenal': 'henry',\n",
    "       'liverpool': 'gerrard' }\n",
    "print(dict_['arsenal'])"
   ]
  },
  {
   "cell_type": "markdown",
   "metadata": {},
   "source": [
    "get() command can used to achieve the same result"
   ]
  },
  {
   "cell_type": "code",
   "execution_count": 5,
   "metadata": {},
   "outputs": [
    {
     "name": "stdout",
     "output_type": "stream",
     "text": [
      "ronaldo\n"
     ]
    }
   ],
   "source": [
    "print(dict_.get('manutd'))"
   ]
  },
  {
   "cell_type": "markdown",
   "metadata": {},
   "source": [
    "#### You can change the value of a specific item by referring to its key name:"
   ]
  },
  {
   "cell_type": "code",
   "execution_count": 6,
   "metadata": {},
   "outputs": [
    {
     "name": "stdout",
     "output_type": "stream",
     "text": [
      "{'manutd': 'ronaldo', 'arsenal': 'henry', 'liverpool': 'salah'}\n"
     ]
    }
   ],
   "source": [
    "dict_ = {'manutd': 'ronaldo',\n",
    "       'arsenal': 'henry',\n",
    "       'liverpool': 'gerrard' }\n",
    "dict_['liverpool'] = 'salah'\n",
    "print(dict_)"
   ]
  },
  {
   "cell_type": "markdown",
   "metadata": {},
   "source": [
    "## Looping through dictionaries\n",
    "#### You can loop through a dictionary by using a for loop."
   ]
  },
  {
   "cell_type": "code",
   "execution_count": 8,
   "metadata": {},
   "outputs": [
    {
     "name": "stdout",
     "output_type": "stream",
     "text": [
      "manutd\n",
      "arsenal\n",
      "liverpool\n"
     ]
    }
   ],
   "source": [
    "# When looping through a dictionary, the return value are the keys of the dictionary\n",
    "dict_ = {'manutd': 'ronaldo',\n",
    "       'arsenal': 'henry',\n",
    "       'liverpool': 'gerrard' }\n",
    "\n",
    "for i in dict_:\n",
    "    print(i)"
   ]
  },
  {
   "cell_type": "code",
   "execution_count": 9,
   "metadata": {},
   "outputs": [
    {
     "name": "stdout",
     "output_type": "stream",
     "text": [
      "ronaldo\n",
      "henry\n",
      "gerrard\n"
     ]
    }
   ],
   "source": [
    "# to print all the values in dict:\n",
    "for i in dict_:\n",
    "    print(dict_[i])"
   ]
  },
  {
   "cell_type": "code",
   "execution_count": 12,
   "metadata": {},
   "outputs": [
    {
     "name": "stdout",
     "output_type": "stream",
     "text": [
      "ronaldo\n",
      "henry\n",
      "gerrard\n"
     ]
    }
   ],
   "source": [
    "# You can also use the values() function to return values of a dictionary:\n",
    "for i in dict_.values():\n",
    "    print(i)"
   ]
  },
  {
   "cell_type": "code",
   "execution_count": 13,
   "metadata": {},
   "outputs": [
    {
     "name": "stdout",
     "output_type": "stream",
     "text": [
      "('manutd', 'ronaldo')\n",
      "('arsenal', 'henry')\n",
      "('liverpool', 'gerrard')\n"
     ]
    }
   ],
   "source": [
    "# Loop through both keys and values, by using the items() function:\n",
    "for i in dict_.items():\n",
    "    print(i)"
   ]
  },
  {
   "cell_type": "markdown",
   "metadata": {},
   "source": [
    "#### Check if Key Exists"
   ]
  },
  {
   "cell_type": "code",
   "execution_count": 16,
   "metadata": {},
   "outputs": [
    {
     "name": "stdout",
     "output_type": "stream",
     "text": [
      "yes,the key exists in dict\n"
     ]
    }
   ],
   "source": [
    "dict_ = {'manutd': 'ronaldo',\n",
    "       'arsenal': 'henry',\n",
    "       'liverpool': 'gerrard' }\n",
    "\n",
    "if 'manutd' in dict_:\n",
    "    print('yes,the key exists in dict')"
   ]
  },
  {
   "cell_type": "markdown",
   "metadata": {},
   "source": [
    "#### Adding Items"
   ]
  },
  {
   "cell_type": "code",
   "execution_count": 20,
   "metadata": {},
   "outputs": [
    {
     "name": "stdout",
     "output_type": "stream",
     "text": [
      "{'manutd': 'ronaldo', 'arsenal': 'henry', 'liverpool': 'gerrard', 'chelsea': 'lampard'}\n"
     ]
    }
   ],
   "source": [
    "dict_ = {'manutd': 'ronaldo',\n",
    "       'arsenal': 'henry',\n",
    "       'liverpool': 'gerrard' }\n",
    "\n",
    "dict_['chelsea']= 'lampard'\n",
    "print(dict_)"
   ]
  },
  {
   "cell_type": "markdown",
   "metadata": {},
   "source": [
    "####  Removing Items\n",
    "\n",
    "There are several methods to remove items from a dictionary:\n",
    "\n"
   ]
  },
  {
   "cell_type": "markdown",
   "metadata": {},
   "source": [
    "The pop() method removes the item with the specified key name:"
   ]
  },
  {
   "cell_type": "code",
   "execution_count": 21,
   "metadata": {},
   "outputs": [
    {
     "name": "stdout",
     "output_type": "stream",
     "text": [
      "{'manutd': 'ronaldo', 'arsenal': 'henry'}\n"
     ]
    }
   ],
   "source": [
    "dict_ = {'manutd': 'ronaldo',\n",
    "       'arsenal': 'henry',\n",
    "       'liverpool': 'gerrard' }\n",
    "dict_.pop('liverpool')\n",
    "print(dict_)"
   ]
  },
  {
   "cell_type": "markdown",
   "metadata": {},
   "source": [
    "The popitem() method removes the last inserted item"
   ]
  },
  {
   "cell_type": "code",
   "execution_count": 24,
   "metadata": {},
   "outputs": [
    {
     "name": "stdout",
     "output_type": "stream",
     "text": [
      "{'manutd': 'ronaldo', 'arsenal': 'henry'}\n"
     ]
    }
   ],
   "source": [
    "dict_ = {'manutd': 'ronaldo',\n",
    "       'arsenal': 'henry',\n",
    "       'liverpool': 'gerrard' }\n",
    "dict_.popitem()\n",
    "print(dict_)"
   ]
  },
  {
   "cell_type": "markdown",
   "metadata": {},
   "source": [
    "The del keyword removes the item with the specified key name:"
   ]
  },
  {
   "cell_type": "code",
   "execution_count": 25,
   "metadata": {},
   "outputs": [
    {
     "name": "stdout",
     "output_type": "stream",
     "text": [
      "{'manutd': 'ronaldo', 'arsenal': 'henry'}\n"
     ]
    }
   ],
   "source": [
    "dict_ = {'manutd': 'ronaldo',\n",
    "       'arsenal': 'henry',\n",
    "       'liverpool': 'gerrard' }\n",
    "del dict_['liverpool']\n",
    "print(dict_)"
   ]
  },
  {
   "cell_type": "code",
   "execution_count": 26,
   "metadata": {},
   "outputs": [
    {
     "ename": "NameError",
     "evalue": "name 'dict_' is not defined",
     "output_type": "error",
     "traceback": [
      "\u001b[1;31m---------------------------------------------------------------------------\u001b[0m",
      "\u001b[1;31mNameError\u001b[0m                                 Traceback (most recent call last)",
      "\u001b[1;32m<ipython-input-26-2cc9d9f1f227>\u001b[0m in \u001b[0;36m<module>\u001b[1;34m()\u001b[0m\n\u001b[0;32m      3\u001b[0m        'liverpool': 'gerrard' }\n\u001b[0;32m      4\u001b[0m \u001b[1;32mdel\u001b[0m \u001b[0mdict_\u001b[0m\u001b[1;33m\u001b[0m\u001b[0m\n\u001b[1;32m----> 5\u001b[1;33m \u001b[0mprint\u001b[0m\u001b[1;33m(\u001b[0m\u001b[0mdict_\u001b[0m\u001b[1;33m)\u001b[0m\u001b[1;33m\u001b[0m\u001b[0m\n\u001b[0m",
      "\u001b[1;31mNameError\u001b[0m: name 'dict_' is not defined"
     ]
    }
   ],
   "source": [
    "dict_ = {'manutd': 'ronaldo',\n",
    "       'arsenal': 'henry',\n",
    "       'liverpool': 'gerrard' }\n",
    "del dict_\n",
    "print(dict_) ##this will cause an error because \"dict_\" no longer exists"
   ]
  },
  {
   "cell_type": "markdown",
   "metadata": {},
   "source": [
    "The clear() keyword empties the dictionary:"
   ]
  },
  {
   "cell_type": "code",
   "execution_count": 27,
   "metadata": {},
   "outputs": [
    {
     "name": "stdout",
     "output_type": "stream",
     "text": [
      "{}\n"
     ]
    }
   ],
   "source": [
    "dict_ = {'manutd': 'ronaldo',\n",
    "       'arsenal': 'henry',\n",
    "       'liverpool': 'gerrard' }\n",
    "dict_.clear()\n",
    "print(dict_)"
   ]
  },
  {
   "cell_type": "markdown",
   "metadata": {},
   "source": [
    "## Dictionary Methods"
   ]
  },
  {
   "cell_type": "markdown",
   "metadata": {},
   "source": [
    "Python has a set of built-in methods that you can use on dictionaries."
   ]
  },
  {
   "cell_type": "markdown",
   "metadata": {},
   "source": [
    "clear() : Removes all the elements from the dictionary\n",
    "\n",
    "copy() : Returns a copy of the dictionary\n",
    "\n",
    "fromkeys() : Returns a dictionary with the specified keys and values\n",
    "\n",
    "get() : Returns the value of the specified key\n",
    "\n",
    "items() : Returns a list containing the a tuple for each key value pair\n",
    "\n",
    "keys() : Returns a list containing the dictionary's keys\n",
    "\n",
    "pop() : Removes the element with the specified key\n",
    "\n",
    "popitem() : Removes the last inserted key-value pair\n",
    "\n",
    "setdefault() : Returns the value of the specified key. If the key does not exist: insert the key, with the specified value\n",
    "\n",
    "update() : Updates the dictionary with the specified key-value pairs\n",
    "\n",
    "values() Returns a list of all the values in the dictionary"
   ]
  },
  {
   "cell_type": "code",
   "execution_count": null,
   "metadata": {},
   "outputs": [],
   "source": []
  }
 ],
 "metadata": {
  "kernelspec": {
   "display_name": "Python 3",
   "language": "python",
   "name": "python3"
  },
  "language_info": {
   "codemirror_mode": {
    "name": "ipython",
    "version": 3
   },
   "file_extension": ".py",
   "mimetype": "text/x-python",
   "name": "python",
   "nbconvert_exporter": "python",
   "pygments_lexer": "ipython3",
   "version": "3.6.5"
  }
 },
 "nbformat": 4,
 "nbformat_minor": 2
}
