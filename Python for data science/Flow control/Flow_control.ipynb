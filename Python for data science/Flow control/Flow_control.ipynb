{
 "cells": [
  {
   "cell_type": "markdown",
   "metadata": {},
   "source": [
    "## If Statement\n",
    "The Python compound statement ’if’ lets you conditionally execute blocks of statements."
   ]
  },
  {
   "cell_type": "code",
   "execution_count": 1,
   "metadata": {},
   "outputs": [
    {
     "name": "stdout",
     "output_type": "stream",
     "text": [
      "Enter Your passwordsubbu\n",
      "Login successful.\n"
     ]
    }
   ],
   "source": [
    "password = input(\"Enter Your password\")\n",
    "\n",
    "if password == \"subbu\":\n",
    "    print('Login successful.')\n",
    "else:\n",
    "    print('Login failed. Incorrect password.')"
   ]
  },
  {
   "cell_type": "markdown",
   "metadata": {},
   "source": [
    "## For Statement:\n",
    "The for statement supports repeated execution of a statement or block of statements that is controlled by an iterable expression."
   ]
  },
  {
   "cell_type": "code",
   "execution_count": null,
   "metadata": {},
   "outputs": [],
   "source": [
    "travelling = input(\"Are you travelling? Yes or No:\")\n",
    "while travelling == 'yes':\n",
    "    num = int(input(\"Enter the number of people travelling:\"))\n",
    "    for num in range(1,num+1):\n",
    "        name = input(\"Enter Details Name:\")\n",
    "        age = input(\"Age:\")\n",
    "        sex = input(\"Male or Female:\")\n",
    "        print(\"Details Stored\",name)\n",
    "        print(age)\n",
    "        print(sex)\n",
    "    print(\"Thank you!\")\n",
    "    print(\"Please come back again.\")"
   ]
  },
  {
   "cell_type": "markdown",
   "metadata": {},
   "source": [
    "## While Statement:\n",
    "The while statement in Python programming supports repeated execution of a statement or block of statements that is controlled by a conditional expression."
   ]
  },
  {
   "cell_type": "code",
   "execution_count": 2,
   "metadata": {},
   "outputs": [
    {
     "name": "stdout",
     "output_type": "stream",
     "text": [
      "Printing numbers from 0 to 9\n",
      "The count is  0\n",
      "The count is  1\n",
      "The count is  2\n",
      "The count is  3\n",
      "The count is  4\n",
      "The count is  5\n",
      "The count is  6\n",
      "The count is  7\n",
      "The count is  8\n",
      "The count is  9\n",
      "Good Bye\n"
     ]
    }
   ],
   "source": [
    "count = 0\n",
    "print('Printing numbers from 0 to 9')\n",
    "while (count<10):\n",
    "    print('The count is ',count)\n",
    "    count = count+1\n",
    "print('Good Bye')"
   ]
  },
  {
   "cell_type": "markdown",
   "metadata": {},
   "source": [
    "## Break Statement:\n",
    "The break statement is allowed only inside a loop body. When break executes, the loop terminates. If a loop is nested inside other loops, break terminates only the innermost nested loop."
   ]
  },
  {
   "cell_type": "code",
   "execution_count": 3,
   "metadata": {},
   "outputs": [
    {
     "name": "stdout",
     "output_type": "stream",
     "text": [
      "Current Letter : T\n",
      "Current Letter : h\n",
      "Current Letter : e\n",
      "Current Letter :  \n",
      "Current Letter : Q\n",
      "Current Letter : u\n",
      "Current Letter : i\n",
      "Current Letter : c\n",
      "Current Letter : k\n",
      "Current Letter :  \n",
      "Current Letter : B\n",
      "Current Letter : r\n",
      "Current Letter : o\n",
      "Current Letter : w\n",
      "Current Letter : n\n",
      "Current Letter :  \n",
      "Current Letter : F\n",
      "Current Letter : o\n",
      "Current Letter : x\n"
     ]
    }
   ],
   "source": [
    "for letter in 'The Quick Brown Fox. Jumps, Over The Lazy Dog':\n",
    "    if letter == '.':\n",
    "        break\n",
    "    print ('Current Letter :', letter)"
   ]
  },
  {
   "cell_type": "markdown",
   "metadata": {},
   "source": [
    "## Continue Statement:\n",
    "The continue statement is allowed only inside a loop body. When continue executes, the current iteration of the loop body terminates, and execution continues with the next iteration of the loop.\n",
    "\n",
    "## Pass Statement:\n",
    "The pass statement, which performs no action, can be used as a placeholder when a statement is syntactically required but you have nothing specific to do."
   ]
  },
  {
   "cell_type": "code",
   "execution_count": 4,
   "metadata": {},
   "outputs": [
    {
     "name": "stdout",
     "output_type": "stream",
     "text": [
      "Found a multiple of 5\n",
      "Found number:  11\n",
      "Found number:  12\n",
      "Found number:  13\n",
      "Found number:  14\n",
      "Found a multiple of 5\n",
      "Found number:  16\n",
      "Found number:  17\n",
      "Found number:  18\n",
      "Found number:  19\n",
      "Found a multiple of 5\n"
     ]
    }
   ],
   "source": [
    "for num in range(10, 21):\n",
    "    if num % 5 == 0:\n",
    "        print (\"Found a multiple of 5\")\n",
    "        pass\n",
    "        num = num + 1\n",
    "        continue\n",
    "    print (\"Found number: \", num)"
   ]
  },
  {
   "cell_type": "code",
   "execution_count": null,
   "metadata": {},
   "outputs": [],
   "source": []
  }
 ],
 "metadata": {
  "kernelspec": {
   "display_name": "Python 3",
   "language": "python",
   "name": "python3"
  },
  "language_info": {
   "codemirror_mode": {
    "name": "ipython",
    "version": 3
   },
   "file_extension": ".py",
   "mimetype": "text/x-python",
   "name": "python",
   "nbconvert_exporter": "python",
   "pygments_lexer": "ipython3",
   "version": "3.6.5"
  }
 },
 "nbformat": 4,
 "nbformat_minor": 2
}
